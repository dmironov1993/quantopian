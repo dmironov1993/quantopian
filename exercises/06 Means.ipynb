{
 "cells": [
  {
   "cell_type": "markdown",
   "metadata": {},
   "source": [
    "# Exercises: Means \n",
    "By Christopher van Hoecke and Max Margenot\n",
    "\n",
    "## Lecture Link :\n",
    "https://www.quantopian.com/lectures/means\n",
    "\n",
    "### IMPORTANT NOTE: \n",
    "This lecture corresponds to the Means lecture, which is part of the Quantopian lecture series. This homework expects you to rely heavily on the code presented in the corresponding lecture. Please copy and paste regularly from that lecture when starting to work on the problems, as trying to do them from scratch will likely be too difficult.\n",
    "\n",
    "Part of the Quantopian Lecture Series:\n",
    "\n",
    "* [www.quantopian.com/lectures](https://www.quantopian.com/lectures)\n",
    "* [github.com/quantopian/research_public](https://github.com/quantopian/research_public)\n",
    "\n",
    "----"
   ]
  },
  {
   "cell_type": "markdown",
   "metadata": {},
   "source": [
    "## Key Concepts"
   ]
  },
  {
   "cell_type": "code",
   "execution_count": 1,
   "metadata": {},
   "outputs": [],
   "source": [
    "# Useful Functions\n",
    "def mode(l):\n",
    "    # Count the number of times each element appears in the list\n",
    "    counts = {}\n",
    "    for e in l:\n",
    "        if e in counts:\n",
    "            counts[e] += 1\n",
    "        else:\n",
    "            counts[e] = 1\n",
    "            \n",
    "    # Return the elements that appear the most times\n",
    "    maxcount = 0\n",
    "    modes = {}\n",
    "    for (key, value) in counts.iteritems():\n",
    "        if value > maxcount:\n",
    "            maxcount = value\n",
    "            modes = {key}\n",
    "        elif value == maxcount:\n",
    "            modes.add(key)\n",
    "            \n",
    "    if maxcount > 1 or len(l) == 1:\n",
    "        return list(modes)\n",
    "    return 'No mode'"
   ]
  },
  {
   "cell_type": "code",
   "execution_count": 2,
   "metadata": {},
   "outputs": [],
   "source": [
    "# Useful Libraries\n",
    "import scipy.stats as stats\n",
    "import numpy as np"
   ]
  },
  {
   "cell_type": "markdown",
   "metadata": {},
   "source": [
    "#### Data:"
   ]
  },
  {
   "cell_type": "code",
   "execution_count": 3,
   "metadata": {},
   "outputs": [],
   "source": [
    "l=[]\n",
    "for x in range(1,100):\n",
    "    x=np.random.randint(1,100)\n",
    "    l.append(x)"
   ]
  },
  {
   "cell_type": "markdown",
   "metadata": {},
   "source": [
    "----"
   ]
  },
  {
   "cell_type": "markdown",
   "metadata": {},
   "source": [
    "# Exercise 1 : Arithmetic mean.\n",
    "## a. Mean of random data set.\n",
    "Find the mean of the randomly generated data set `l`. "
   ]
  },
  {
   "cell_type": "code",
   "execution_count": 4,
   "metadata": {},
   "outputs": [
    {
     "name": "stdout",
     "output_type": "stream",
     "text": [
      "Arithmetic mean of randomly generated data set:  44.9494949495\n"
     ]
    }
   ],
   "source": [
    "## Your code goes here\n",
    "print \"Arithmetic mean of randomly generated data set: \", np.mean(l)"
   ]
  },
  {
   "cell_type": "markdown",
   "metadata": {},
   "source": [
    "## b. Mean of returns\n",
    "Find the mean of the returns of Iteris Inc. (ITI)."
   ]
  },
  {
   "cell_type": "code",
   "execution_count": 5,
   "metadata": {},
   "outputs": [
    {
     "name": "stdout",
     "output_type": "stream",
     "text": [
      "Arithmetic mean of the ITI returns:  -8.33695292019e-05\n"
     ]
    }
   ],
   "source": [
    "price = get_pricing('ITI', fields='price', start_date='2005-01-01', end_date='2010-01-01')\n",
    "returns = price.pct_change()[1:]\n",
    "\n",
    "## Your code goes here.\n",
    "print \"Arithmetic mean of the ITI returns: \", np.mean(returns)"
   ]
  },
  {
   "cell_type": "markdown",
   "metadata": {},
   "source": [
    "---"
   ]
  },
  {
   "cell_type": "markdown",
   "metadata": {},
   "source": [
    "# Exercise 2 : Median\n",
    "## a. Median of random data set\n",
    "Find the median of the randomly generated data set `l`."
   ]
  },
  {
   "cell_type": "code",
   "execution_count": 6,
   "metadata": {},
   "outputs": [
    {
     "name": "stdout",
     "output_type": "stream",
     "text": [
      "Median of randomly generated data set:  42.0\n"
     ]
    }
   ],
   "source": [
    "## Your code goes here   \n",
    "print \"Median of randomly generated data set: \", np.median(l)"
   ]
  },
  {
   "cell_type": "markdown",
   "metadata": {},
   "source": [
    "## b. Median of the returns.\n",
    "Find the median associated with the returns of Bank of America Corp. (BAC)."
   ]
  },
  {
   "cell_type": "code",
   "execution_count": 7,
   "metadata": {},
   "outputs": [
    {
     "name": "stdout",
     "output_type": "stream",
     "text": [
      "Median of BAC returns:  -0.000409084894317\n"
     ]
    }
   ],
   "source": [
    "price = get_pricing('BAC', fields='open_price', start_date='2005-01-01', end_date='2010-01-01')\n",
    "returns = price.pct_change()[1:]\n",
    "\n",
    "## Your code goes here\n",
    "print \"Median of BAC returns: \", np.median(returns)"
   ]
  },
  {
   "cell_type": "markdown",
   "metadata": {},
   "source": [
    "----"
   ]
  },
  {
   "cell_type": "markdown",
   "metadata": {},
   "source": [
    "# Exercise 3 : Mode\n",
    "## a. Mode of a random data set. \n",
    "Find the mode of the random generated data set `l`."
   ]
  },
  {
   "cell_type": "code",
   "execution_count": 8,
   "metadata": {},
   "outputs": [
    {
     "name": "stdout",
     "output_type": "stream",
     "text": [
      "Mode of randomly generated data set:  [29]\n"
     ]
    }
   ],
   "source": [
    "## Your code goes here\n",
    "print \"Mode of randomly generated data set: \", mode(l)"
   ]
  },
  {
   "cell_type": "markdown",
   "metadata": {},
   "source": [
    "`mode` function used above is written by authors of the notebook. Let's develop our own approach from scratch."
   ]
  },
  {
   "cell_type": "code",
   "execution_count": 9,
   "metadata": {},
   "outputs": [],
   "source": [
    "#let's develop our approach\n",
    "def mode_our(a):\n",
    "    counts = {}\n",
    "    for e in a:\n",
    "        if e in counts:\n",
    "            counts[e] += 1\n",
    "        else:\n",
    "            counts[e] = 1\n",
    "    \n",
    "    #find most freq\n",
    "    max_enc = max(counts.values())\n",
    "    idx = []\n",
    "    for i in range(len(counts.values())):\n",
    "        if max_enc == counts.values()[i]:\n",
    "            idx.append(i)\n",
    "    \n",
    "    #now most freq elements save in mode list\n",
    "    if len(idx) == len(a):\n",
    "        return \"No mode\"\n",
    "    \n",
    "    mode = []\n",
    "    for i in idx:\n",
    "        mode.append(counts.keys()[i])\n",
    "    return mode"
   ]
  },
  {
   "cell_type": "code",
   "execution_count": 10,
   "metadata": {},
   "outputs": [
    {
     "name": "stdout",
     "output_type": "stream",
     "text": [
      "Mode calculated by using our approach:  [29]\n"
     ]
    }
   ],
   "source": [
    "print \"Mode calculated by using our approach: \", mode_our(l)"
   ]
  },
  {
   "cell_type": "code",
   "execution_count": 11,
   "metadata": {},
   "outputs": [],
   "source": [
    "#check that mode calculated by both approaches is coincides\n",
    "assert mode_our(l) == mode(l)"
   ]
  },
  {
   "cell_type": "markdown",
   "metadata": {},
   "source": [
    "## b. Mode of the returns. \n",
    "Find the mode associated with the returns of Goldman Sachs Corp. (GS). *Recall with returns, there may not be any values that appear more than once.*"
   ]
  },
  {
   "cell_type": "code",
   "execution_count": 12,
   "metadata": {},
   "outputs": [
    {
     "name": "stdout",
     "output_type": "stream",
     "text": [
      "Mode calculated by function introduced by authors:  No mode\n",
      "Mode calculated by function created by us:          No mode\n"
     ]
    }
   ],
   "source": [
    "start = '2014-01-01'\n",
    "end = '2015-01-01'\n",
    "pricing = get_pricing('GS', fields='price', start_date=start, end_date=end)\n",
    "returns = pricing.pct_change()[1:]\n",
    "\n",
    "## Your code goes here\n",
    "print \"Mode calculated by function introduced by authors: \", mode(returns)\n",
    "print \"Mode calculated by function created by us:         \", mode_our(returns.values)"
   ]
  },
  {
   "cell_type": "markdown",
   "metadata": {},
   "source": [
    "----"
   ]
  },
  {
   "cell_type": "markdown",
   "metadata": {},
   "source": [
    "# Exercise 4 : Geometric mean\n",
    "## a. Geometric Mean of random data set.\n",
    "Find the Geometric mean of the random generated data set."
   ]
  },
  {
   "cell_type": "code",
   "execution_count": 13,
   "metadata": {},
   "outputs": [
    {
     "name": "stdout",
     "output_type": "stream",
     "text": [
      "Elements of a list:\n",
      "[65 15 28 55 54  3 22 61 40 73 70 34 71 37 73 54 94 86 21 35 16 43 21  2 68\n",
      " 38 44 84 69 35  6 28 19 27 34 83  3 34 64 18 89 86 34 67 48 75  4 24 43 41] \n",
      "\n",
      "Geometric mean:  33.8079266586\n"
     ]
    }
   ],
   "source": [
    "## Your code goes here\n",
    "x = np.random.randint(1,100, 50)\n",
    "print \"Elements of a list:\"\n",
    "print x, \"\\n\"\n",
    "print \"Geometric mean: \", stats.gmean(x)"
   ]
  },
  {
   "cell_type": "code",
   "execution_count": 14,
   "metadata": {},
   "outputs": [
    {
     "name": "stdout",
     "output_type": "stream",
     "text": [
      "Geometric mean of earlier generated data:  34.4354355059\n"
     ]
    }
   ],
   "source": [
    "print \"Geometric mean of earlier generated data: \", stats.gmean(l)"
   ]
  },
  {
   "cell_type": "markdown",
   "metadata": {},
   "source": [
    "## b. Geometric Mean of returns. \n",
    "Find the Geometric Mean of the price of Citi bank (C) for the last 5 years. "
   ]
  },
  {
   "cell_type": "code",
   "execution_count": 15,
   "metadata": {},
   "outputs": [
    {
     "name": "stdout",
     "output_type": "stream",
     "text": [
      "Geometric Mean of the price:  21.5434707851\n"
     ]
    }
   ],
   "source": [
    "price = get_pricing('C', fields='open_price', start_date='2005-01-01', end_date='2010-01-01')\n",
    "\n",
    "## Your code goes here\n",
    "print \"Geometric Mean of the price: \", stats.gmean(price)"
   ]
  },
  {
   "cell_type": "markdown",
   "metadata": {},
   "source": [
    "---"
   ]
  },
  {
   "cell_type": "markdown",
   "metadata": {},
   "source": [
    "# Exercise 5 : Harmonic mean.\n",
    "## a. Harmonic Mean of random data set. \n",
    "Find the harmonic mean of the randomly generated data set `l`."
   ]
  },
  {
   "cell_type": "code",
   "execution_count": 16,
   "metadata": {},
   "outputs": [
    {
     "name": "stdout",
     "output_type": "stream",
     "text": [
      "Harmonic mean of randomly generated data:  16.7694380392\n"
     ]
    }
   ],
   "source": [
    "## Your code goes here \n",
    "print \"Harmonic mean of randomly generated data: \", stats.hmean(l)"
   ]
  },
  {
   "cell_type": "markdown",
   "metadata": {},
   "source": [
    "## b. Harmonic Mean of stock returns.\n",
    "Find the Harmonic Mean of the financial ETF (XLF) over the last 2 years."
   ]
  },
  {
   "cell_type": "code",
   "execution_count": 17,
   "metadata": {
    "scrolled": true
   },
   "outputs": [
    {
     "ename": "ValueError",
     "evalue": "Harmonic mean only defined if all elements greater than zero",
     "output_type": "error",
     "traceback": [
      "\u001b[0;31m\u001b[0m",
      "\u001b[0;31mValueError\u001b[0mTraceback (most recent call last)",
      "\u001b[0;32m<ipython-input-17-d0c4f2660a85>\u001b[0m in \u001b[0;36m<module>\u001b[0;34m()\u001b[0m\n\u001b[1;32m      4\u001b[0m \u001b[0mprice\u001b[0m \u001b[0;34m=\u001b[0m \u001b[0mget_pricing\u001b[0m\u001b[0;34m(\u001b[0m\u001b[0;34m'XLF'\u001b[0m\u001b[0;34m,\u001b[0m \u001b[0mfields\u001b[0m \u001b[0;34m=\u001b[0m \u001b[0;34m'open_price'\u001b[0m\u001b[0;34m,\u001b[0m \u001b[0mstart_date\u001b[0m \u001b[0;34m=\u001b[0m \u001b[0mstart\u001b[0m\u001b[0;34m,\u001b[0m \u001b[0mend_date\u001b[0m \u001b[0;34m=\u001b[0m \u001b[0mend\u001b[0m\u001b[0;34m)\u001b[0m\u001b[0;34m\u001b[0m\u001b[0m\n\u001b[1;32m      5\u001b[0m \u001b[0mreturns\u001b[0m \u001b[0;34m=\u001b[0m \u001b[0mprice\u001b[0m\u001b[0;34m.\u001b[0m\u001b[0mpct_change\u001b[0m\u001b[0;34m(\u001b[0m\u001b[0;34m)\u001b[0m\u001b[0;34m[\u001b[0m\u001b[0;36m1\u001b[0m\u001b[0;34m:\u001b[0m\u001b[0;34m]\u001b[0m\u001b[0;34m\u001b[0m\u001b[0m\n\u001b[0;32m----> 6\u001b[0;31m \u001b[0;32mprint\u001b[0m \u001b[0mstats\u001b[0m\u001b[0;34m.\u001b[0m\u001b[0mhmean\u001b[0m\u001b[0;34m(\u001b[0m\u001b[0mreturns\u001b[0m\u001b[0;34m)\u001b[0m\u001b[0;34m\u001b[0m\u001b[0m\n\u001b[0m",
      "\u001b[0;32m/venvs/py27/local/lib/python2.7/site-packages/scipy/stats/stats.pyc\u001b[0m in \u001b[0;36mhmean\u001b[0;34m(a, axis, dtype)\u001b[0m\n\u001b[1;32m    584\u001b[0m         \u001b[0;32mreturn\u001b[0m \u001b[0msize\u001b[0m \u001b[0;34m/\u001b[0m \u001b[0mnp\u001b[0m\u001b[0;34m.\u001b[0m\u001b[0msum\u001b[0m\u001b[0;34m(\u001b[0m\u001b[0;36m1.0\u001b[0m\u001b[0;34m/\u001b[0m\u001b[0ma\u001b[0m\u001b[0;34m,\u001b[0m \u001b[0maxis\u001b[0m\u001b[0;34m=\u001b[0m\u001b[0maxis\u001b[0m\u001b[0;34m,\u001b[0m \u001b[0mdtype\u001b[0m\u001b[0;34m=\u001b[0m\u001b[0mdtype\u001b[0m\u001b[0;34m)\u001b[0m\u001b[0;34m\u001b[0m\u001b[0m\n\u001b[1;32m    585\u001b[0m     \u001b[0;32melse\u001b[0m\u001b[0;34m:\u001b[0m\u001b[0;34m\u001b[0m\u001b[0m\n\u001b[0;32m--> 586\u001b[0;31m         \u001b[0;32mraise\u001b[0m \u001b[0mValueError\u001b[0m\u001b[0;34m(\u001b[0m\u001b[0;34m\"Harmonic mean only defined if all elements greater than zero\"\u001b[0m\u001b[0;34m)\u001b[0m\u001b[0;34m\u001b[0m\u001b[0m\n\u001b[0m\u001b[1;32m    587\u001b[0m \u001b[0;34m\u001b[0m\u001b[0m\n\u001b[1;32m    588\u001b[0m \u001b[0mModeResult\u001b[0m \u001b[0;34m=\u001b[0m \u001b[0mnamedtuple\u001b[0m\u001b[0;34m(\u001b[0m\u001b[0;34m'ModeResult'\u001b[0m\u001b[0;34m,\u001b[0m \u001b[0;34m(\u001b[0m\u001b[0;34m'mode'\u001b[0m\u001b[0;34m,\u001b[0m \u001b[0;34m'count'\u001b[0m\u001b[0;34m)\u001b[0m\u001b[0;34m)\u001b[0m\u001b[0;34m\u001b[0m\u001b[0m\n",
      "\u001b[0;31mValueError\u001b[0m: Harmonic mean only defined if all elements greater than zero"
     ]
    }
   ],
   "source": [
    "## Your code goes here\n",
    "start = '2017-12-04'\n",
    "end = '2019-12-04'\n",
    "price = get_pricing('XLF', fields = 'open_price', start_date = start, end_date = end)\n",
    "returns = price.pct_change()[1:]\n",
    "print stats.hmean(returns)"
   ]
  },
  {
   "cell_type": "markdown",
   "metadata": {},
   "source": [
    "Since returns were negative sometimes during that time-interval we cannot compute harmonic mena of stock returns. However, we can compute harmonic mean of stock prices."
   ]
  },
  {
   "cell_type": "code",
   "execution_count": 18,
   "metadata": {},
   "outputs": [
    {
     "name": "stdout",
     "output_type": "stream",
     "text": [
      "Harmonic mean of prices:  26.8689066929\n"
     ]
    }
   ],
   "source": [
    "print \"Harmonic mean of prices: \", stats.hmean(price.values)"
   ]
  },
  {
   "cell_type": "markdown",
   "metadata": {},
   "source": [
    "----"
   ]
  },
  {
   "cell_type": "markdown",
   "metadata": {},
   "source": [
    "# Exercise 6 : Skewness and why it matters.\n",
    "Skewness in a probability distribution is the measure of asymmetry. Negative skew has fewer low values and a longer left tail, whereas positive skew has fewer high values and a longer right tail.\n",
    "In asset pricing, skewness is an important information, naimly in risk assessment. Knowledge that the market has a 60% chance of going down and a 40% chance of going up apears helpfull but only if we know the market is obeying a normal distrubtuion. If we are told that the market will go up 2% but down 18%, we can see how skewness would give us better information.\n",
    "\n",
    "Determine if the returns of SPY from 2010 to 2017 is positivly or negativly skewed. \n",
    "*Recall a data set is positivly skewed if the mode is smaller than the median, which is smaller than the mean. A data set is negativly skewed in the event of the reverse (i.e: the mean is greater than the median, which is greater than the mode)*"
   ]
  },
  {
   "cell_type": "code",
   "execution_count": 19,
   "metadata": {
    "scrolled": false
   },
   "outputs": [
    {
     "name": "stdout",
     "output_type": "stream",
     "text": [
      "Skewness of Returns 1.5411170774\n",
      "There is one more way to check this \n",
      "\n",
      "Mode authors:  -0.781493141886\n",
      "Mode our:      -0.781493141886\n",
      "Median:        -0.0156134608453\n",
      "Mean:           0.0532647454828 \n",
      "\n",
      "Returns are positively skewed\n"
     ]
    }
   ],
   "source": [
    "price = get_pricing('SPY', fields='volume', start_date='2010-01-01', end_date='2017-01-01')\n",
    "returns = price.pct_change()[1:]\n",
    "\n",
    "## Your code goes here\n",
    "print \"Skewness of Returns\", stats.skew(returns)\n",
    "print \"There is one more way to check this \\n\"\n",
    "\n",
    "#calculate mode (two approaches author's and our), median and mean\n",
    "mode_authors = [stats.mode(returns)[0][0] if mode(returns) == 'No mode' else mode(returns)][0]\n",
    "mode_our = [stats.mode(returns)[0][0] if mode(returns) == 'No mode' else mode_our(returns)][0]\n",
    "median = np.median(returns)\n",
    "mean = np.mean(returns)\n",
    "\n",
    "print \"Mode authors: \", mode_authors\n",
    "print \"Mode our:     \", mode_our\n",
    "#check that both values coincide\n",
    "assert mode_authors == mode_our\n",
    "print \"Median:       \", median\n",
    "print \"Mean:          \", mean, '\\n'\n",
    "\n",
    "if (mode_our < median) and (median < mean):\n",
    "    print \"Returns are positively skewed\"\n",
    "if (mean < median) and (median < mode_our):\n",
    "    print \"Returns are negatively skewed\"\n",
    "if (mean == median) and (median == mode_our):\n",
    "    print \"Returns are not skewed\""
   ]
  },
  {
   "cell_type": "markdown",
   "metadata": {},
   "source": [
    "We can clearly see positive skewing from the histogram of the returns. We see fewer higher values and a longer right tail.\n",
    "Plot the histograms of the returns now."
   ]
  },
  {
   "cell_type": "code",
   "execution_count": 20,
   "metadata": {},
   "outputs": [
    {
     "data": {
      "image/png": "[encoded data removed]",
      "text/plain": [
       "<matplotlib.figure.Figure at 0x7fe195a55d90>"
      ]
     },
     "metadata": {},
     "output_type": "display_data"
    }
   ],
   "source": [
    "## Your code here\n",
    "from matplotlib import pyplot as plt\n",
    "plt.hist(returns.values, 30)\n",
    "plt.xlabel(\"Returns\")\n",
    "plt.ylabel(\"Frequency\")\n",
    "plt.show()"
   ]
  },
  {
   "cell_type": "markdown",
   "metadata": {},
   "source": [
    "---\n",
    "\n",
    "Congratulations on completing the Means exercises!\n",
    "\n",
    "As you learn more about writing trading algorithms and the Quantopian platform, be sure to check out the daily [Quantopian Contest](https://www.quantopian.com/contest), in which you can compete for a cash prize every day.\n",
    "\n",
    "Start by going through the [Writing a Contest Algorithm](https://www.quantopian.com/tutorials/contest) tutorial."
   ]
  },
  {
   "cell_type": "markdown",
   "metadata": {},
   "source": [
    "*This presentation is for informational purposes only and does not constitute an offer to sell, a solicitation to buy, or a recommendation for any security; nor does it constitute an offer to provide investment advisory or other services by Quantopian, Inc. (\"Quantopian\"). Nothing contained herein constitutes investment advice or offers any opinion with respect to the suitability of any security, and any views expressed herein should not be taken as advice to buy, sell, or hold any security or as an endorsement of any security or company.  In preparing the information contained herein, Quantopian, Inc. has not taken into account the investment needs, objectives, and financial circumstances of any particular investor. Any views expressed and data illustrated herein were prepared based upon information, believed to be reliable, available to Quantopian, Inc. at the time of publication. Quantopian makes no guarantees as to their accuracy or completeness. All information is subject to change and may quickly become unreliable for various reasons, including changes in market conditions or economic circumstances.*"
   ]
  }
 ],
 "metadata": {
  "kernelspec": {
   "display_name": "Python 2",
   "language": "python",
   "name": "python2"
  },
  "language_info": {
   "codemirror_mode": {
    "name": "ipython",
    "version": 2
   },
   "file_extension": ".py",
   "mimetype": "text/x-python",
   "name": "python",
   "nbconvert_exporter": "python",
   "pygments_lexer": "ipython2",
   "version": "2.7.12"
  }
 },
 "nbformat": 4,
 "nbformat_minor": 2
}